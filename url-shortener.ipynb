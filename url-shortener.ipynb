{
 "cells": [
  {
   "cell_type": "code",
   "execution_count": null,
   "metadata": {},
   "outputs": [],
   "source": [
    "from tkinter import *\n",
    "import pyshorteners\n",
    "\n",
    "root = Tk()\n",
    "root.title('Harishitha CODECLAUSE')\n",
    "root.geometry('500x500')\n",
    "root.config(background = \"#FFF8DC\")  \n",
    "\n",
    "#Main function\n",
    "def shorten():\n",
    "    if shorty.get():\n",
    "        shorty.delete(0, END)\n",
    "    if my_entry.get():\n",
    "        #Convert Url to Short\n",
    "        url = pyshorteners.Shortener().tinyurl.short(my_entry.get())\n",
    "        #Output to window\n",
    "        shorty.insert(END, url)\n",
    "\n",
    "my_label = Label(root, text=\"URL-SHORTENER\",bg=\"#008B8B\",fg=\"white\", font=(\"Centuary\",34))\n",
    "my_label.pack(pady=30)\n",
    "\n",
    "my_entry = Entry(root, font=(\"Centuary\",24))\n",
    "my_entry.pack(pady=20)\n",
    "\n",
    "my_btn = Button(root, command=shorten , text=\"Link\",bg=\"DarkSlateGrey\",font=(\"Centuary\",24))\n",
    "my_btn.pack(pady=20)\n",
    "\n",
    "short_label = Label(root, text=\"New link:\" ,fg=\"white\" ,bg=\"#DB7093\", font=(\"Centuary\",18))\n",
    "short_label.pack(pady=20)\n",
    "\n",
    "shorty = Entry(root, font=(\"Centuary\",22),bg=\"#03001C\", fg=\"#F9D949\", justify=CENTER , width=30,bd=0)\n",
    "shorty.pack(pady=30)\n",
    "\n",
    "root.mainloop()"
   ]
  }
 ],
 "metadata": {
  "language_info": {
   "name": "python"
  },
  "orig_nbformat": 4
 },
 "nbformat": 4,
 "nbformat_minor": 2
}
